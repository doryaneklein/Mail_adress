{
  "cells": [
    {
      "cell_type": "markdown",
      "metadata": {
        "id": "view-in-github",
        "colab_type": "text"
      },
      "source": [
        "<a href=\"https://colab.research.google.com/github/Doryane/Big_data/blob/main/ValidEmail.ipynb\" target=\"_parent\"><img src=\"https://colab.research.google.com/assets/colab-badge.svg\" alt=\"Open In Colab\"/></a>"
      ]
    },
    {
      "cell_type": "markdown",
      "source": [
        "Etapes en amont :\n",
        "\n",
        "  - Installer requests\n",
        "  - Charger la base \"liste_mail.xlxs\"\n",
        "  - Définir la clé d'API\n",
        "\n",
        "Si vous voulez utiliser votre propre API"
      ],
      "metadata": {
        "id": "vK-Pr-9XlE9C"
      }
    },
    {
      "cell_type": "code",
      "source": [
        "key_API = ''"
      ],
      "metadata": {
        "id": "VGAUzxWjn45Y"
      },
      "execution_count": null,
      "outputs": []
    },
    {
      "cell_type": "code",
      "source": [
        "#pip install requests"
      ],
      "metadata": {
        "id": "JUp0olAVlEDK"
      },
      "execution_count": null,
      "outputs": []
    },
    {
      "cell_type": "markdown",
      "source": [
        "Le code suivant permet d'importer la liste des domaines d'adresses non conforme et d'ajouter un nom fixe devant pour constituer une \"réelle\" structure d'adresse mail"
      ],
      "metadata": {
        "id": "uY8a84kSoEOk"
      }
    },
    {
      "cell_type": "code",
      "execution_count": null,
      "metadata": {
        "colab": {
          "base_uri": "https://localhost:8080/"
        },
        "id": "n74PVk7yORdH",
        "outputId": "69f55ef4-78ec-4d07-b6ee-761352319ded"
      },
      "outputs": [
        {
          "output_type": "stream",
          "name": "stdout",
          "text": [
            "               MAIL                       MAIL_\n",
            "0             -.COM         Dupont.Martin@-.COM\n",
            "1               .fr           Dupont.Martin@.fr\n",
            "2       .hotmail.fr   Dupont.Martin@.hotmail.fr\n",
            "3      _4hotmail.fr  Dupont.Martin@_4hotmail.fr\n",
            "4             0.com         Dupont.Martin@0.com\n",
            "...             ...                         ...\n",
            "91065        ZZ.COM        Dupont.Martin@ZZ.COM\n",
            "91066         ZZ.FR         Dupont.Martin@ZZ.FR\n",
            "91067         zz.yy         Dupont.Martin@zz.yy\n",
            "91068         zz.zz         Dupont.Martin@zz.zz\n",
            "91069        zzz.zz        Dupont.Martin@zzz.zz\n",
            "\n",
            "[91070 rows x 2 columns]\n",
            "<class 'list'> 91070\n"
          ]
        }
      ],
      "source": [
        "import pandas as pd\n",
        "liste_mail = pd.read_excel('Liste_mail.xlsx')\n",
        "liste_mail[\"MAIL_\"] = \"\"\n",
        "for i in range(len(liste_mail['MAIL'])):\n",
        "  liste_mail[\"MAIL_\"][i] = 'Dupont.Martin@' +  liste_mail[\"MAIL\"][i]\n",
        "print(liste_mail)"
      ]
    },
    {
      "cell_type": "markdown",
      "source": [
        "On met les adresses mails dans une liste \"mail\""
      ],
      "metadata": {
        "id": "aJBu-vDLoKTw"
      }
    },
    {
      "cell_type": "code",
      "source": [
        "mail = list(liste_mail['MAIL_'])\n",
        "print(type(mail),len(mail))"
      ],
      "metadata": {
        "colab": {
          "base_uri": "https://localhost:8080/"
        },
        "id": "XV84P4vEoNQN",
        "outputId": "2508cc67-6967-425f-afa5-306131c16e5c"
      },
      "execution_count": null,
      "outputs": [
        {
          "output_type": "stream",
          "name": "stdout",
          "text": [
            "<class 'list'> 91070\n"
          ]
        }
      ]
    },
    {
      "cell_type": "markdown",
      "source": [
        "On applique l'API ValidEmail sur la liste des adresses mails, on obtient :\n",
        "\n",
        "  - score de validation de l'email\n",
        "  - l'état du mail\n",
        "  - la validité\n",
        "  - la raison de l'erreur"
      ],
      "metadata": {
        "id": "h-09S5s6oTuj"
      }
    },
    {
      "cell_type": "code",
      "execution_count": null,
      "metadata": {
        "id": "IrMJy7yBxG4T",
        "colab": {
          "base_uri": "https://localhost:8080/"
        },
        "outputId": "f0489aab-403e-4896-f2a7-448698a60910"
      },
      "outputs": [
        {
          "output_type": "stream",
          "name": "stdout",
          "text": [
            "[{'email': 'Dupont.Martin@-.COM', 'token': 'b33e62371a284377b47086c3a67e2956'}, {'email': 'Dupont.Martin@.fr', 'token': 'b33e62371a284377b47086c3a67e2956'}, {'email': 'Dupont.Martin@.hotmail.fr', 'token': 'b33e62371a284377b47086c3a67e2956'}, {'email': 'Dupont.Martin@_4hotmail.fr', 'token': 'b33e62371a284377b47086c3a67e2956'}, {'email': 'Dupont.Martin@0.com', 'token': 'b33e62371a284377b47086c3a67e2956'}, {'email': 'Dupont.Martin@0.FR', 'token': 'b33e62371a284377b47086c3a67e2956'}, {'email': 'Dupont.Martin@0.fr', 'token': 'b33e62371a284377b47086c3a67e2956'}, {'email': 'Dupont.Martin@00.00', 'token': 'b33e62371a284377b47086c3a67e2956'}, {'email': 'Dupont.Martin@00.com', 'token': 'b33e62371a284377b47086c3a67e2956'}, {'email': 'Dupont.Martin@00.FR', 'token': 'b33e62371a284377b47086c3a67e2956'}, {'email': 'Dupont.Martin@00.fr', 'token': 'b33e62371a284377b47086c3a67e2956'}, {'email': 'Dupont.Martin@000.00', 'token': 'b33e62371a284377b47086c3a67e2956'}, {'email': 'Dupont.Martin@000.com', 'token': 'b33e62371a284377b47086c3a67e2956'}, {'email': 'Dupont.Martin@000.fr', 'token': 'b33e62371a284377b47086c3a67e2956'}, {'email': 'Dupont.Martin@0000.000', 'token': 'b33e62371a284377b47086c3a67e2956'}]\n",
            "                             0  is_valid  score      email_state  \\\n",
            "0          Dupont.Martin@-.COM     False      0  Not Deliverable   \n",
            "1            Dupont.Martin@.fr     False      0            ERROR   \n",
            "2    Dupont.Martin@.hotmail.fr     False      0            ERROR   \n",
            "3   Dupont.Martin@_4hotmail.fr     False      0  Not Deliverable   \n",
            "4          Dupont.Martin@0.com     False      0  Not Deliverable   \n",
            "5           Dupont.Martin@0.FR     False      0  Not Deliverable   \n",
            "6           Dupont.Martin@0.fr     False      0  Not Deliverable   \n",
            "7          Dupont.Martin@00.00     False      0  Not Deliverable   \n",
            "8         Dupont.Martin@00.com     False      0  Not Deliverable   \n",
            "9          Dupont.Martin@00.FR      True    100      Deliverable   \n",
            "10         Dupont.Martin@00.fr      True    100      Deliverable   \n",
            "11        Dupont.Martin@000.00     False      0  Not Deliverable   \n",
            "12       Dupont.Martin@000.com     False      0  Not Deliverable   \n",
            "13        Dupont.Martin@000.fr      True    100      Deliverable   \n",
            "14      Dupont.Martin@0000.000     False      0  Not Deliverable   \n",
            "\n",
            "            reason  \n",
            "0   INVALID DOMAIN  \n",
            "1            ERROR  \n",
            "2            ERROR  \n",
            "3   INVALID DOMAIN  \n",
            "4   INVALID DOMAIN  \n",
            "5     INVALID MAIL  \n",
            "6     INVALID MAIL  \n",
            "7   INVALID DOMAIN  \n",
            "8   INVALID DOMAIN  \n",
            "9   ACCEPTED EMAIL  \n",
            "10  ACCEPTED EMAIL  \n",
            "11  INVALID DOMAIN  \n",
            "12  INVALID DOMAIN  \n",
            "13  ACCEPTED EMAIL  \n",
            "14  INVALID DOMAIN  \n"
          ]
        }
      ],
      "source": [
        "import requests\n",
        "\n",
        "is_valid = []\n",
        "score = []\n",
        "email_state = []\n",
        "reason = []\n",
        "params = []\n",
        "mail_liste = []\n",
        "data = []\n",
        "response = []\n",
        "\n",
        "for i in range(len(mail)):\n",
        "  # specify the base url and parameters\n",
        "  mail_liste.append(mail[i])\n",
        "  base_url = 'https://api.ValidEmail.net/'\n",
        "  params.append({\n",
        "      'email': mail_liste[i],  # replace with the email you want to verify\n",
        "      'token': key_API  # replace with your actual API key\n",
        "  })\n",
        "\n",
        "  # make the GET request\n",
        "  response.append(requests.get(base_url, params=params[i]))\n",
        "\n",
        "  # handle the response\n",
        "  if response[i].status_code == 200:\n",
        "      data.append(response[i].json())\n",
        "      # Extract specific information from the response\n",
        "      is_valid.append(data[i]['IsValid'])\n",
        "      score.append(data[i]['Score'])\n",
        "      email_state.append(data[i]['State'])\n",
        "      reason.append(data[i]['Reason'])\n",
        "\n",
        "      # print(f\"Email is valid: {is_valid}\")\n",
        "      # print(f\"Score: {score}\")\n",
        "      # print(f\"Email State: {email_state}\")\n",
        "      # print(f\"Reason: {reason}\")\n",
        "\n",
        "      # Extract additional information about the email\n",
        "      # additional_info = data['EmailAdditionalInfo']\n",
        "      # for info in additional_info:\n",
        "          # print(f\"{info['Key']}: {info['Value']}\")\n",
        "\n",
        "  else:\n",
        "      print(f\"Request failed with status {response.status_code}\")\n",
        "\n",
        "print(params)\n",
        "import pandas as pd\n",
        "resultats = pd.DataFrame(mail_liste)\n",
        "resultats['is_valid'] = is_valid\n",
        "resultats['score'] = score\n",
        "resultats['email_state'] = email_state\n",
        "resultats['reason'] = reason\n",
        "\n",
        "print(resultats)"
      ]
    },
    {
      "cell_type": "code",
      "execution_count": null,
      "metadata": {
        "colab": {
          "base_uri": "https://localhost:8080/"
        },
        "id": "H3o0_xgL51CR",
        "outputId": "b1e94e30-25df-4eb9-fc57-69baae3d8b8c"
      },
      "outputs": [
        {
          "output_type": "stream",
          "name": "stdout",
          "text": [
            "Email is valid: False\n",
            "Score: 0\n",
            "Email State: Not Deliverable\n",
            "Reason: INVALID MAIL\n"
          ]
        }
      ],
      "source": [
        "# specify the base url and parameters\n",
        "base_url = 'https://api.ValidEmail.net/'\n",
        "params = {\n",
        "    'email': 'dupont.martin@gmail.com',  # replace with the email you want to verify\n",
        "    'token': key_API  # replace with your actual API key\n",
        "}\n",
        "\n",
        "# make the GET request\n",
        "response = requests.get(base_url, params=params)\n",
        "\n",
        "# handle the response\n",
        "if response.status_code == 200:\n",
        "    data = response.json()\n",
        "    # Extract specific information from the response\n",
        "    is_valid = (data['IsValid'])\n",
        "    score = (data['Score'])\n",
        "    email_state = (data['State'])\n",
        "    reason = (data['Reason'])\n",
        "\n",
        "    print(f\"Email is valid: {is_valid}\")\n",
        "    print(f\"Score: {score}\")\n",
        "    print(f\"Email State: {email_state}\")\n",
        "    print(f\"Reason: {reason}\")\n",
        "\n",
        "    # Extract additional information about the email\n",
        "    # additional_info = data['EmailAdditionalInfo']\n",
        "    # for info in additional_info:\n",
        "        # print(f\"{info['Key']}: {info['Value']}\")\n",
        "\n",
        "else:\n",
        "    print(f\"Request failed with status {response.status_code}\")"
      ]
    }
  ],
  "metadata": {
    "colab": {
      "provenance": [],
      "authorship_tag": "ABX9TyNIV5MK9C2tXGAKSVPPn+ZD",
      "include_colab_link": true
    },
    "kernelspec": {
      "display_name": "Python 3",
      "name": "python3"
    },
    "language_info": {
      "name": "python"
    }
  },
  "nbformat": 4,
  "nbformat_minor": 0
}